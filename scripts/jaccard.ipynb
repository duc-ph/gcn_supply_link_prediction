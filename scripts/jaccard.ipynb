{
 "cells": [
  {
   "cell_type": "code",
   "execution_count": 16,
   "metadata": {},
   "outputs": [],
   "source": [
    "#using 3.12.3\n",
    "import pandas as pd\n",
    "import networkx as nx\n",
    "import random\n",
    "import csv"
   ]
  },
  {
   "cell_type": "code",
   "execution_count": 17,
   "metadata": {},
   "outputs": [
    {
     "data": {
      "text/html": [
       "<div>\n",
       "<style scoped>\n",
       "    .dataframe tbody tr th:only-of-type {\n",
       "        vertical-align: middle;\n",
       "    }\n",
       "\n",
       "    .dataframe tbody tr th {\n",
       "        vertical-align: top;\n",
       "    }\n",
       "\n",
       "    .dataframe thead th {\n",
       "        text-align: right;\n",
       "    }\n",
       "</style>\n",
       "<table border=\"1\" class=\"dataframe\">\n",
       "  <thead>\n",
       "    <tr style=\"text-align: right;\">\n",
       "      <th></th>\n",
       "      <th>Customer</th>\n",
       "      <th>Supplier</th>\n",
       "    </tr>\n",
       "  </thead>\n",
       "  <tbody>\n",
       "    <tr>\n",
       "      <th>0</th>\n",
       "      <td>Volvo</td>\n",
       "      <td>AAPICO Hitech</td>\n",
       "    </tr>\n",
       "    <tr>\n",
       "      <th>1</th>\n",
       "      <td>Volvo</td>\n",
       "      <td>ABC Technologies</td>\n",
       "    </tr>\n",
       "    <tr>\n",
       "      <th>2</th>\n",
       "      <td>Volvo</td>\n",
       "      <td>Adient plc</td>\n",
       "    </tr>\n",
       "    <tr>\n",
       "      <th>3</th>\n",
       "      <td>Volvo</td>\n",
       "      <td>AGC</td>\n",
       "    </tr>\n",
       "    <tr>\n",
       "      <th>4</th>\n",
       "      <td>Volvo</td>\n",
       "      <td>Aisin</td>\n",
       "    </tr>\n",
       "    <tr>\n",
       "      <th>...</th>\n",
       "      <td>...</td>\n",
       "      <td>...</td>\n",
       "    </tr>\n",
       "    <tr>\n",
       "      <th>51358</th>\n",
       "      <td>Unipres</td>\n",
       "      <td>voestalpine Rotec</td>\n",
       "    </tr>\n",
       "    <tr>\n",
       "      <th>51359</th>\n",
       "      <td>Unipres</td>\n",
       "      <td>Xiangyang Sunrise</td>\n",
       "    </tr>\n",
       "    <tr>\n",
       "      <th>51360</th>\n",
       "      <td>Unipres</td>\n",
       "      <td>Yakumo Manufacturing</td>\n",
       "    </tr>\n",
       "    <tr>\n",
       "      <th>51361</th>\n",
       "      <td>Unipres</td>\n",
       "      <td>Yamashita Rubber</td>\n",
       "    </tr>\n",
       "    <tr>\n",
       "      <th>51362</th>\n",
       "      <td>Unipres</td>\n",
       "      <td>Yoshino Press</td>\n",
       "    </tr>\n",
       "  </tbody>\n",
       "</table>\n",
       "<p>51363 rows × 2 columns</p>\n",
       "</div>"
      ],
      "text/plain": [
       "      Customer              Supplier\n",
       "0        Volvo         AAPICO Hitech\n",
       "1        Volvo      ABC Technologies\n",
       "2        Volvo            Adient plc\n",
       "3        Volvo                   AGC\n",
       "4        Volvo                 Aisin\n",
       "...        ...                   ...\n",
       "51358  Unipres     voestalpine Rotec\n",
       "51359  Unipres     Xiangyang Sunrise\n",
       "51360  Unipres  Yakumo Manufacturing\n",
       "51361  Unipres      Yamashita Rubber\n",
       "51362  Unipres         Yoshino Press\n",
       "\n",
       "[51363 rows x 2 columns]"
      ]
     },
     "execution_count": 17,
     "metadata": {},
     "output_type": "execute_result"
    }
   ],
   "source": [
    "df = pd.read_csv('../data/edges.csv')\n",
    "df"
   ]
  },
  {
   "cell_type": "code",
   "execution_count": 18,
   "metadata": {},
   "outputs": [],
   "source": [
    "all_suppliers = set(df['Customer'].tolist() + df['Supplier'].tolist())\n",
    "nametoi = {name: i for i, name in enumerate(all_suppliers)}\n",
    "edges = []\n",
    "\n",
    "for _, row in df.iterrows():\n",
    "    supplier1, supplier2 = row\n",
    "    idx1, idx2 = nametoi[supplier1], nametoi[supplier2]\n",
    "    edges.append((idx1, idx2))"
   ]
  },
  {
   "cell_type": "code",
   "execution_count": 19,
   "metadata": {},
   "outputs": [],
   "source": [
    "# Create the graph\n",
    "G = nx.Graph()\n",
    "G.add_edges_from(edges)"
   ]
  },
  {
   "cell_type": "code",
   "execution_count": 20,
   "metadata": {},
   "outputs": [],
   "source": [
    "test_split = .20\n",
    "edges = list(G.edges())\n",
    "test_edges = random.sample(edges, int(G.number_of_edges()*test_split))\n",
    "test_G = nx.Graph()\n",
    "test_G.add_edges_from(test_edges)\n",
    "train_edges = [edge for edge in edges if edge not in test_edges]\n",
    "train_G = G.copy()\n",
    "train_G.remove_edges_from(test_G.edges())"
   ]
  },
  {
   "cell_type": "code",
   "execution_count": 21,
   "metadata": {},
   "outputs": [],
   "source": [
    "non_edges = list(nx.non_edges(G))"
   ]
  },
  {
   "cell_type": "code",
   "execution_count": 22,
   "metadata": {},
   "outputs": [
    {
     "name": "stdout",
     "output_type": "stream",
     "text": [
      "there are 112849590 non-edges in the graph\n"
     ]
    }
   ],
   "source": [
    "print(f'there are {len(non_edges)} non-edges in the graph')"
   ]
  },
  {
   "cell_type": "code",
   "execution_count": 23,
   "metadata": {},
   "outputs": [],
   "source": [
    "#get the same amount of negative edges as there are positive in the test set\n",
    "n_times_as_many_pos_test_edges = 4\n",
    "non_edges_test = random.sample(non_edges, len(test_edges)*n_times_as_many_pos_test_edges)"
   ]
  },
  {
   "cell_type": "code",
   "execution_count": 24,
   "metadata": {},
   "outputs": [
    {
     "name": "stdout",
     "output_type": "stream",
     "text": [
      "test set has 38636 negative edges and 9659 positive edges\n"
     ]
    }
   ],
   "source": [
    "print(f'test set has {len(non_edges_test)} negative edges and {len(test_edges)} positive edges')"
   ]
  },
  {
   "cell_type": "code",
   "execution_count": 25,
   "metadata": {},
   "outputs": [],
   "source": [
    "#create the labels for the test set\n",
    "test_edges_labels = [True]*len(test_edges) #all of these are positive labels\n",
    "non_edge_test_labels = [False]*len(non_edges_test) #all of these are negative labels"
   ]
  },
  {
   "cell_type": "code",
   "execution_count": 26,
   "metadata": {},
   "outputs": [],
   "source": [
    "#merge non_edge labels into test labels \n",
    "# (nx.jaccard_coefficient outputs predictions in order, so we can just extend them like this)\n",
    "test_edges_labels.extend(non_edge_test_labels)"
   ]
  },
  {
   "cell_type": "code",
   "execution_count": 27,
   "metadata": {},
   "outputs": [],
   "source": [
    "#merge non edge test into the test edge set\n",
    "# (nx.jaccard_coefficient outputs predictions in order, so we can just extend them like this)\n",
    "test_edges.extend(non_edges_test)"
   ]
  },
  {
   "cell_type": "code",
   "execution_count": 28,
   "metadata": {},
   "outputs": [],
   "source": [
    "#get the jaccard prectiction on the test set, given the training graph\n",
    "preds = list(nx.jaccard_coefficient(train_G, test_edges))"
   ]
  },
  {
   "cell_type": "code",
   "execution_count": 29,
   "metadata": {},
   "outputs": [],
   "source": [
    "#write results to csv so we can save them and use them in process_jaccard_results.py\n",
    "with open('jaccard_results.csv', 'w') as csvFile:    \n",
    "    for i in range(len(test_edges_labels)):\n",
    "        csvFile.write(f'{test_edges_labels[i]},{preds[i][2]}\\n')"
   ]
  }
 ],
 "metadata": {
  "kernelspec": {
   "display_name": "Python 3",
   "language": "python",
   "name": "python3"
  },
  "language_info": {
   "codemirror_mode": {
    "name": "ipython",
    "version": 3
   },
   "file_extension": ".py",
   "mimetype": "text/x-python",
   "name": "python",
   "nbconvert_exporter": "python",
   "pygments_lexer": "ipython3",
   "version": "3.12.3"
  }
 },
 "nbformat": 4,
 "nbformat_minor": 2
}
