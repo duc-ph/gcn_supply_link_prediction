{
 "cells": [
  {
   "cell_type": "code",
   "execution_count": 2,
   "metadata": {},
   "outputs": [],
   "source": [
    "import pandas as pd\n",
    "import networkx as nx\n",
    "import matplotlib.pyplot as plt\n",
    "import json\n",
    "import torch\n",
    "from tqdm import tqdm\n",
    "from torch_geometric.data import Data\n",
    "from torch_geometric.loader import DataLoader\n",
    "import torch.nn.functional as F\n",
    "from torch_geometric.nn import GCNConv, global_mean_pool\n",
    "from sklearn.metrics import roc_auc_score"
   ]
  },
  {
   "cell_type": "markdown",
   "metadata": {},
   "source": [
    "## Read and preprocess data"
   ]
  },
  {
   "cell_type": "code",
   "execution_count": 3,
   "metadata": {},
   "outputs": [
    {
     "name": "stdout",
     "output_type": "stream",
     "text": [
      "Shape before: (51363, 2)\n",
      "Shape after: (48341, 2)\n"
     ]
    }
   ],
   "source": [
    "df = pd.read_csv('../data/edges.csv')\n",
    "print(f'Shape before: {df.shape}')\n",
    "df = df.drop_duplicates().reset_index(drop=True)\n",
    "print(f'Shape after: {df.shape}')"
   ]
  },
  {
   "cell_type": "code",
   "execution_count": 4,
   "metadata": {},
   "outputs": [
    {
     "data": {
      "text/html": [
       "<div>\n",
       "<style scoped>\n",
       "    .dataframe tbody tr th:only-of-type {\n",
       "        vertical-align: middle;\n",
       "    }\n",
       "\n",
       "    .dataframe tbody tr th {\n",
       "        vertical-align: top;\n",
       "    }\n",
       "\n",
       "    .dataframe thead th {\n",
       "        text-align: right;\n",
       "    }\n",
       "</style>\n",
       "<table border=\"1\" class=\"dataframe\">\n",
       "  <thead>\n",
       "    <tr style=\"text-align: right;\">\n",
       "      <th></th>\n",
       "      <th>Customer</th>\n",
       "      <th>Supplier</th>\n",
       "    </tr>\n",
       "  </thead>\n",
       "  <tbody>\n",
       "    <tr>\n",
       "      <th>0</th>\n",
       "      <td>Volvo</td>\n",
       "      <td>AAPICO Hitech</td>\n",
       "    </tr>\n",
       "    <tr>\n",
       "      <th>1</th>\n",
       "      <td>Volvo</td>\n",
       "      <td>ABC Technologies</td>\n",
       "    </tr>\n",
       "    <tr>\n",
       "      <th>2</th>\n",
       "      <td>Volvo</td>\n",
       "      <td>Adient plc</td>\n",
       "    </tr>\n",
       "    <tr>\n",
       "      <th>3</th>\n",
       "      <td>Volvo</td>\n",
       "      <td>AGC</td>\n",
       "    </tr>\n",
       "    <tr>\n",
       "      <th>4</th>\n",
       "      <td>Volvo</td>\n",
       "      <td>Aisin</td>\n",
       "    </tr>\n",
       "    <tr>\n",
       "      <th>...</th>\n",
       "      <td>...</td>\n",
       "      <td>...</td>\n",
       "    </tr>\n",
       "    <tr>\n",
       "      <th>48336</th>\n",
       "      <td>Unipres</td>\n",
       "      <td>voestalpine Rotec</td>\n",
       "    </tr>\n",
       "    <tr>\n",
       "      <th>48337</th>\n",
       "      <td>Unipres</td>\n",
       "      <td>Xiangyang Sunrise</td>\n",
       "    </tr>\n",
       "    <tr>\n",
       "      <th>48338</th>\n",
       "      <td>Unipres</td>\n",
       "      <td>Yakumo Manufacturing</td>\n",
       "    </tr>\n",
       "    <tr>\n",
       "      <th>48339</th>\n",
       "      <td>Unipres</td>\n",
       "      <td>Yamashita Rubber</td>\n",
       "    </tr>\n",
       "    <tr>\n",
       "      <th>48340</th>\n",
       "      <td>Unipres</td>\n",
       "      <td>Yoshino Press</td>\n",
       "    </tr>\n",
       "  </tbody>\n",
       "</table>\n",
       "<p>48341 rows × 2 columns</p>\n",
       "</div>"
      ],
      "text/plain": [
       "      Customer              Supplier\n",
       "0        Volvo         AAPICO Hitech\n",
       "1        Volvo      ABC Technologies\n",
       "2        Volvo            Adient plc\n",
       "3        Volvo                   AGC\n",
       "4        Volvo                 Aisin\n",
       "...        ...                   ...\n",
       "48336  Unipres     voestalpine Rotec\n",
       "48337  Unipres     Xiangyang Sunrise\n",
       "48338  Unipres  Yakumo Manufacturing\n",
       "48339  Unipres      Yamashita Rubber\n",
       "48340  Unipres         Yoshino Press\n",
       "\n",
       "[48341 rows x 2 columns]"
      ]
     },
     "execution_count": 4,
     "metadata": {},
     "output_type": "execute_result"
    }
   ],
   "source": [
    "df"
   ]
  },
  {
   "cell_type": "markdown",
   "metadata": {},
   "source": [
    "Since this will be an undirected graph, we will remove the duplicates when reversing the company orders"
   ]
  },
  {
   "cell_type": "code",
   "execution_count": 5,
   "metadata": {},
   "outputs": [],
   "source": [
    "df['sorted_name'] = df.apply(lambda x: min(x['Customer'], x['Supplier']) + ' ' + max(x['Customer'], x['Supplier']), axis=1)"
   ]
  },
  {
   "cell_type": "code",
   "execution_count": 6,
   "metadata": {},
   "outputs": [
    {
     "data": {
      "text/plain": [
       "(48299,)"
      ]
     },
     "execution_count": 6,
     "metadata": {},
     "output_type": "execute_result"
    }
   ],
   "source": [
    "df['sorted_name'].unique().shape"
   ]
  },
  {
   "cell_type": "code",
   "execution_count": 7,
   "metadata": {},
   "outputs": [
    {
     "data": {
      "text/plain": [
       "(48299, 2)"
      ]
     },
     "execution_count": 7,
     "metadata": {},
     "output_type": "execute_result"
    }
   ],
   "source": [
    "df = df.drop_duplicates('sorted_name')[['Customer', 'Supplier']]\n",
    "df.shape"
   ]
  },
  {
   "cell_type": "code",
   "execution_count": 8,
   "metadata": {},
   "outputs": [],
   "source": [
    "all_suppliers = set(df['Customer'].tolist() + df['Supplier'].tolist())"
   ]
  },
  {
   "cell_type": "code",
   "execution_count": 9,
   "metadata": {},
   "outputs": [
    {
     "data": {
      "text/plain": [
       "15027"
      ]
     },
     "execution_count": 9,
     "metadata": {},
     "output_type": "execute_result"
    }
   ],
   "source": [
    "len(all_suppliers)"
   ]
  },
  {
   "cell_type": "code",
   "execution_count": 10,
   "metadata": {},
   "outputs": [],
   "source": [
    "nametoi = {name: i for i, name in enumerate(all_suppliers)}\n",
    "edges = []\n",
    "\n",
    "for _, row in df.iterrows():\n",
    "    supplier1, supplier2 = row\n",
    "    idx1, idx2 = nametoi[supplier1], nametoi[supplier2]\n",
    "    edges.append((idx1, idx2))"
   ]
  },
  {
   "cell_type": "code",
   "execution_count": 11,
   "metadata": {},
   "outputs": [],
   "source": [
    "# Create the graph\n",
    "G = nx.Graph()\n",
    "G.add_edges_from(edges)"
   ]
  },
  {
   "cell_type": "code",
   "execution_count": 138,
   "metadata": {},
   "outputs": [
    {
     "data": {
      "text/plain": [
       "6"
      ]
     },
     "execution_count": 138,
     "metadata": {},
     "output_type": "execute_result"
    }
   ],
   "source": [
    "nx.diameter(G)"
   ]
  },
  {
   "cell_type": "code",
   "execution_count": 139,
   "metadata": {},
   "outputs": [],
   "source": [
    "# get the distances between all node pairs\n",
    "distances = dict(nx.all_pairs_shortest_path_length(G))"
   ]
  },
  {
   "cell_type": "code",
   "execution_count": 140,
   "metadata": {},
   "outputs": [],
   "source": [
    "distance_pairs = {}\n",
    "for node1, nbs in distances.items():\n",
    "    for node2, distance in nbs.items():\n",
    "        distance_pairs[(min(node1, node2), max(node1, node2))] = distance"
   ]
  },
  {
   "cell_type": "code",
   "execution_count": 141,
   "metadata": {},
   "outputs": [],
   "source": [
    "torch.save(distance_pairs, '../data/distance_pairs.pt')"
   ]
  },
  {
   "cell_type": "code",
   "execution_count": 12,
   "metadata": {},
   "outputs": [
    {
     "name": "stderr",
     "output_type": "stream",
     "text": [
      "/var/folders/7_/lxw_pkpd7w3596thsp0v5w3m0000gn/T/ipykernel_19967/3179048931.py:1: FutureWarning: You are using `torch.load` with `weights_only=False` (the current default value), which uses the default pickle module implicitly. It is possible to construct malicious pickle data which will execute arbitrary code during unpickling (See https://github.com/pytorch/pytorch/blob/main/SECURITY.md#untrusted-models for more details). In a future release, the default value for `weights_only` will be flipped to `True`. This limits the functions that could be executed during unpickling. Arbitrary objects will no longer be allowed to be loaded via this mode unless they are explicitly allowlisted by the user via `torch.serialization.add_safe_globals`. We recommend you start setting `weights_only=True` for any use case where you don't have full control of the loaded file. Please open an issue on GitHub for any issues related to this experimental feature.\n",
      "  distance_pairs = torch.load('../data/distance_pairs.pt')\n"
     ]
    }
   ],
   "source": [
    "distance_pairs = torch.load('../data/distance_pairs.pt')"
   ]
  },
  {
   "cell_type": "code",
   "execution_count": 30,
   "metadata": {},
   "outputs": [
    {
     "data": {
      "text/plain": [
       "(array([1.5027000e+04, 4.8261000e+04, 0.0000000e+00, 1.1527360e+07,\n",
       "        0.0000000e+00, 5.9811289e+07, 4.0057711e+07, 0.0000000e+00,\n",
       "        1.4525600e+06, 6.7000000e+02]),\n",
       " array([0. , 0.6, 1.2, 1.8, 2.4, 3. , 3.6, 4.2, 4.8, 5.4, 6. ]),\n",
       " <BarContainer object of 10 artists>)"
      ]
     },
     "execution_count": 30,
     "metadata": {},
     "output_type": "execute_result"
    },
    {
     "data": {
      "image/png": "[encoded data removed]",
      "text/plain": [
       "<Figure size 640x480 with 1 Axes>"
      ]
     },
     "metadata": {},
     "output_type": "display_data"
    }
   ],
   "source": [
    "plt.hist(distance_pairs.values())"
   ]
  },
  {
   "cell_type": "code",
   "execution_count": 13,
   "metadata": {},
   "outputs": [
    {
     "name": "stderr",
     "output_type": "stream",
     "text": [
      "100%|██████████| 112912878/112912878 [00:23<00:00, 4803462.03it/s]\n"
     ]
    }
   ],
   "source": [
    "pos, neg = [], []\n",
    "\n",
    "for pair, distance in tqdm(distance_pairs.items()):\n",
    "    if distance == 1:\n",
    "        pos.append(pair)\n",
    "    if distance > 1:\n",
    "        neg.append(pair)"
   ]
  },
  {
   "cell_type": "code",
   "execution_count": 14,
   "metadata": {},
   "outputs": [
    {
     "name": "stdout",
     "output_type": "stream",
     "text": [
      "There are 48,261 positive edges, and 112,849,590 negative edges\n"
     ]
    }
   ],
   "source": [
    "print(f'There are {len(pos):,} positive edges, and {len(neg):,} negative edges')"
   ]
  },
  {
   "cell_type": "markdown",
   "metadata": {},
   "source": [
    "In the paper, the authors trained the model with $1:1$ link/non-link ratio, and these ratios for test are $1:1/2/3/4$.\n",
    "\n",
    "Therefore, we will need $24,130$ positive samples and the same amount in negative samples for training.\n",
    "\n",
    "For testing, we need $24,130$ positive samples, and $24,130*4=96,520$ negative samples.\n",
    "\n",
    "In total, we will need $24,130*4=120,650$ negative samples."
   ]
  },
  {
   "cell_type": "code",
   "execution_count": 15,
   "metadata": {},
   "outputs": [],
   "source": [
    "POSITIVE_SIZE = 24_130"
   ]
  },
  {
   "cell_type": "code",
   "execution_count": 16,
   "metadata": {},
   "outputs": [
    {
     "data": {
      "text/plain": [
       "48260"
      ]
     },
     "execution_count": 16,
     "metadata": {},
     "output_type": "execute_result"
    }
   ],
   "source": [
    "# Removing the odd element at the end\n",
    "pos = pos[:POSITIVE_SIZE*2]\n",
    "len(pos)"
   ]
  },
  {
   "cell_type": "code",
   "execution_count": 17,
   "metadata": {},
   "outputs": [
    {
     "data": {
      "text/plain": [
       "120650"
      ]
     },
     "execution_count": 17,
     "metadata": {},
     "output_type": "execute_result"
    }
   ],
   "source": [
    "neg_subset = neg[::len(neg)//(POSITIVE_SIZE*5)][:POSITIVE_SIZE*5]\n",
    "len(neg_subset)"
   ]
  },
  {
   "cell_type": "markdown",
   "metadata": {},
   "source": [
    "According to the paper, each node will be assigned a color using this formula:\n",
    "\n",
    "$$\n",
    "f_{l}(i) = 1 + \\min(d_x, d_y) + \\frac{d}{2} \\left[\\frac{d}{2} + (d \\% 2) - 1 \\right]\n",
    "$$\n",
    "\n",
    "where *i* is a neighbouring node, *x* and *y* are the pair of nodes under consideration, $d_x$ and $d_y$ are shortest paths between *i* and *x*, *y*, respectively, and $d = d_x + d_y$.\n",
    "\n",
    "We will now write a function to calculate this color, given *i*, *x* and *y*.\n"
   ]
  },
  {
   "cell_type": "code",
   "execution_count": 18,
   "metadata": {},
   "outputs": [],
   "source": [
    "def get_distance(n1, n2):\n",
    "    n1, n2 = min(n1, n2), max(n1, n2)\n",
    "    return distance_pairs[(n1, n2)]\n",
    "\n",
    "\n",
    "def get_color(i, x, y):\n",
    "    dx, dy = get_distance(i, x), get_distance(i, y)\n",
    "    d = dx + dy\n",
    "    color = 1 + min(dx, dy) + d/2 * (d/2 + d%2 - 1)\n",
    "    \n",
    "    # in the paper, the authors do not apply this *4 step. \n",
    "    # But if not, how will they do the one-hot encoding\n",
    "    # when the color is a float (e.g. 4.25)?\n",
    "    return int(color)"
   ]
  },
  {
   "cell_type": "markdown",
   "metadata": {},
   "source": [
    "We then calculate the color of every 1-hop neighbors for all the positive and negative pairs.\n",
    "\n",
    "The authors used $64$ as maximum size of the one-hot embedding, and also the size of the subgraph embedding."
   ]
  },
  {
   "cell_type": "code",
   "execution_count": 19,
   "metadata": {},
   "outputs": [],
   "source": [
    "MAX_COLOR = 64"
   ]
  },
  {
   "cell_type": "code",
   "execution_count": 20,
   "metadata": {},
   "outputs": [],
   "source": [
    "# Create adjacency list:\n",
    "from collections import defaultdict\n",
    "adj_list = defaultdict(list)\n",
    "\n",
    "for node1, node2 in edges:\n",
    "    if node1 not in adj_list[node2]:\n",
    "        adj_list[node2].append(node1)\n",
    "    if node2 not in adj_list[node1]:\n",
    "        adj_list[node1].append(node2)"
   ]
  },
  {
   "cell_type": "code",
   "execution_count": 154,
   "metadata": {},
   "outputs": [],
   "source": [
    "# def get_pair_colors(pair):\n",
    "#     node1, node2 = pair\n",
    "\n",
    "#     subgraph_nodes = set(adj_list[node1] + adj_list[node2])\n",
    "#     subgraph_nodes.discard(node1)\n",
    "#     subgraph_nodes.discard(node2)\n",
    "    \n",
    "#     colors = set()\n",
    "#     for subgraph_node in subgraph_nodes:\n",
    "#         colors.add(get_color(subgraph_node, node1, node2))\n",
    "\n",
    "#     return colors\n",
    "\n",
    "# colors = set()\n",
    "# for pair in tqdm(pos + neg_subset):\n",
    "#     colors = colors.union(get_pair_colors(pair))\n",
    "\n",
    "# colors"
   ]
  },
  {
   "cell_type": "code",
   "execution_count": 21,
   "metadata": {},
   "outputs": [],
   "source": [
    "def process_data_pair(pair):\n",
    "    node1, node2 = pair\n",
    "\n",
    "    subgraph_nodes = set(adj_list[node1] + adj_list[node2] + [node1, node2])\n",
    "    # subgraph_nodes.discard(node1)\n",
    "    # subgraph_nodes.discard(node2)\n",
    "    subgraph_nodes_to_idx = {node:i for i, node in enumerate(subgraph_nodes)}\n",
    "\n",
    "    subgraph_edge_idx = []\n",
    "    for subgraph_node in subgraph_nodes:\n",
    "        nbs = adj_list[subgraph_node]\n",
    "        for nb in nbs:\n",
    "            # edge = [subgraph_node, nb]\n",
    "            if (\n",
    "                # node1 in edge or node2 in edge or # not counting the link containing the target nodes\n",
    "                nb not in subgraph_nodes\n",
    "            ): \n",
    "                continue\n",
    "            subgraph_edge_idx.append([\n",
    "                subgraph_nodes_to_idx[subgraph_node],\n",
    "                subgraph_nodes_to_idx[nb],\n",
    "            ])\n",
    "\n",
    "    subgraph_edge_idx = torch.tensor(subgraph_edge_idx).t()\n",
    "\n",
    "    one_hot_colors = []\n",
    "    for subgraph_node in subgraph_nodes:\n",
    "        color = get_color(subgraph_node, node1, node2)\n",
    "        one_hot_color = [0] * MAX_COLOR\n",
    "        one_hot_color[color] = 1\n",
    "        one_hot_colors.append(one_hot_color)\n",
    "\n",
    "    return torch.tensor(one_hot_colors), subgraph_edge_idx"
   ]
  },
  {
   "cell_type": "markdown",
   "metadata": {},
   "source": [
    "Creating the train and test dataset"
   ]
  },
  {
   "cell_type": "code",
   "execution_count": 22,
   "metadata": {},
   "outputs": [],
   "source": [
    "def create_data_from_node_pairs(pairs, labels):\n",
    "    dataset = []\n",
    "    for pair, label in tqdm(zip(pairs, labels)):\n",
    "        subgraph_node_features, subgraph_edge_idx = process_data_pair(pair)\n",
    "        data = Data(\n",
    "            x=subgraph_node_features, \n",
    "            edge_index=subgraph_edge_idx,\n",
    "            y=torch.tensor([label])\n",
    "        )\n",
    "        dataset.append(data)\n",
    "    return dataset"
   ]
  },
  {
   "cell_type": "code",
   "execution_count": 29,
   "metadata": {},
   "outputs": [
    {
     "name": "stderr",
     "output_type": "stream",
     "text": [
      "48260it [00:36, 1330.32it/s]\n"
     ]
    }
   ],
   "source": [
    "train_dataset = create_data_from_node_pairs(\n",
    "    pairs=pos[:POSITIVE_SIZE] + neg_subset[:POSITIVE_SIZE],\n",
    "    labels=[1.0]*POSITIVE_SIZE + [0.0]*POSITIVE_SIZE\n",
    ")\n",
    "torch.save(train_dataset, '../data/train_dataset.pt')"
   ]
  },
  {
   "cell_type": "code",
   "execution_count": 42,
   "metadata": {},
   "outputs": [
    {
     "name": "stderr",
     "output_type": "stream",
     "text": [
      "24130it [00:16, 1491.84it/s]\n",
      "24130it [00:15, 1514.81it/s]\n",
      "24130it [00:16, 1507.55it/s]\n"
     ]
    }
   ],
   "source": [
    "test_dataset_1_1 = create_data_from_node_pairs(\n",
    "    pairs=pos[POSITIVE_SIZE:] + neg_subset[POSITIVE_SIZE:POSITIVE_SIZE*2],\n",
    "    labels=[1.0]*POSITIVE_SIZE + [0.0]*POSITIVE_SIZE\n",
    ")\n",
    "# torch.save(test_dataset_1_1, '../data/test_dataset_1_1.pt')\n",
    "\n",
    "test_dataset_1_2 = test_dataset_1_1 + create_data_from_node_pairs(\n",
    "    pairs=neg_subset[POSITIVE_SIZE*2:POSITIVE_SIZE*3],\n",
    "    labels=[0.0]*POSITIVE_SIZE\n",
    ")\n",
    "# torch.save(test_dataset_1_2, '../data/test_dataset_1_2.pt')\n",
    "\n",
    "test_dataset_1_3 = test_dataset_1_2 + create_data_from_node_pairs(\n",
    "    pairs=neg_subset[POSITIVE_SIZE*3:POSITIVE_SIZE*4],\n",
    "    labels=[0.0]*POSITIVE_SIZE\n",
    ")\n",
    "# torch.save(test_dataset_1_3, '../data/test_dataset_1_3.pt')\n",
    "\n",
    "test_dataset_1_4 = test_dataset_1_3 + create_data_from_node_pairs(\n",
    "    pairs=neg_subset[POSITIVE_SIZE*4:],\n",
    "    labels=[0.0]*POSITIVE_SIZE\n",
    ")\n",
    "# torch.save(test_dataset_1_4, '../data/test_dataset_1_4.pt')"
   ]
  },
  {
   "cell_type": "code",
   "execution_count": null,
   "metadata": {},
   "outputs": [],
   "source": [
    "# train_dataset = torch.load('../data/train_dataset.pt')\n",
    "# test_dataset_1_1 = torch.load('../data/test_dataset_1_1.pt')\n",
    "# test_dataset_1_2 = torch.load('../data/test_dataset_1_2.pt')\n",
    "# test_dataset_1_3 = torch.load('../data/test_dataset_1_3.pt')\n",
    "# test_dataset_1_4 = torch.load('../data/test_dataset_1_4.pt')"
   ]
  },
  {
   "cell_type": "markdown",
   "metadata": {},
   "source": [
    "# Model training"
   ]
  },
  {
   "cell_type": "markdown",
   "metadata": {},
   "source": [
    "The model is defined as a 3-layer GCN. The input dim , hidden size, and output dim of each layer is equal to the one-hot embedding size.\n",
    "\n",
    "The original paper from Kipf and Welling (2017) used ReLU activation, but in this paper the authors used sigmoid instead."
   ]
  },
  {
   "cell_type": "code",
   "execution_count": 24,
   "metadata": {},
   "outputs": [],
   "source": [
    "class GNN(torch.nn.Module):\n",
    "    def __init__(self, input_dim, hidden_dim, output_dim):\n",
    "        super(GNN, self).__init__()\n",
    "        self.conv1 = GCNConv(input_dim, hidden_dim)\n",
    "        self.conv2 = GCNConv(hidden_dim, hidden_dim)\n",
    "        self.conv3 = GCNConv(hidden_dim, output_dim)\n",
    "\n",
    "    def forward(self, x, edge_index, batch):\n",
    "        x = self.conv1(x, edge_index)\n",
    "        x = F.sigmoid(x)\n",
    "        \n",
    "        x = self.conv2(x, edge_index)\n",
    "        x = F.sigmoid(x)\n",
    "\n",
    "        x = self.conv3(x, edge_index)\n",
    "        x = F.sigmoid(x)\n",
    "\n",
    "        x = global_mean_pool(x, batch)\n",
    "\n",
    "        return x\n",
    "\n",
    "class BinaryClassifier(torch.nn.Module):\n",
    "    def __init__(self, input_dim):\n",
    "        super(BinaryClassifier, self).__init__()\n",
    "        self.fc = torch.nn.Linear(input_dim, 1)\n",
    "\n",
    "    def forward(self, x):\n",
    "        x = self.fc(x)\n",
    "        return x\n",
    "\n",
    "class CombinedModel(torch.nn.Module):\n",
    "    def __init__(self, gnn_input_dim, gnn_hidden_dim, gnn_output_dim):\n",
    "        super(CombinedModel, self).__init__()\n",
    "        self.gnn = GNN(gnn_input_dim, gnn_hidden_dim, gnn_output_dim)\n",
    "        self.classifier = BinaryClassifier(gnn_output_dim)\n",
    "\n",
    "    def forward(self, x, edge_index, batch):\n",
    "        subgraph_embedding = self.gnn(x, edge_index, batch)\n",
    "        output = self.classifier(subgraph_embedding)\n",
    "\n",
    "        return output"
   ]
  },
  {
   "cell_type": "code",
   "execution_count": 25,
   "metadata": {},
   "outputs": [],
   "source": [
    "model = CombinedModel(gnn_input_dim=MAX_COLOR, gnn_hidden_dim=MAX_COLOR, gnn_output_dim=MAX_COLOR)"
   ]
  },
  {
   "cell_type": "markdown",
   "metadata": {},
   "source": [
    "Let's just start making inference without any training and see how good it can be."
   ]
  },
  {
   "cell_type": "code",
   "execution_count": 26,
   "metadata": {},
   "outputs": [],
   "source": [
    "test_dataloader_1_1 = DataLoader(test_dataset_1_1, batch_size=128)"
   ]
  },
  {
   "cell_type": "code",
   "execution_count": null,
   "metadata": {},
   "outputs": [
    {
     "name": "stdout",
     "output_type": "stream",
     "text": [
      "AUC Score: 0.8430\n"
     ]
    }
   ],
   "source": [
    "all_labels = []\n",
    "all_probs = []\n",
    "\n",
    "with torch.no_grad():\n",
    "    for batch in test_dataloader_1_1:\n",
    "        logits = model(batch.x.float(), batch.edge_index.int(), batch.batch)\n",
    "        probs = torch.sigmoid(logits).squeeze()\n",
    "\n",
    "        all_labels.append(batch.y.float())\n",
    "        all_probs.append(probs)\n",
    "\n",
    "all_labels = torch.cat(all_labels)\n",
    "all_probs = torch.cat(all_probs)\n",
    "\n",
    "auc_score = roc_auc_score(all_labels, all_probs)\n",
    "print(f\"AUC Score: {auc_score:.4f}\")"
   ]
  },
  {
   "cell_type": "markdown",
   "metadata": {},
   "source": [
    "AUC = 0.843 for no training at all seems quite high. Let's see how much it improves with training."
   ]
  },
  {
   "cell_type": "markdown",
   "metadata": {},
   "source": [
    "We will now start training to see how much it improves"
   ]
  },
  {
   "cell_type": "code",
   "execution_count": 30,
   "metadata": {},
   "outputs": [],
   "source": [
    "# Training setup\n",
    "optimizer = torch.optim.Adam(model.parameters(), lr=0.01)\n",
    "criterion = torch.nn.BCEWithLogitsLoss()\n",
    "train_dataloader = DataLoader(train_dataset, batch_size=128, shuffle=True)\n",
    "model.train()\n",
    "epochs = 20"
   ]
  },
  {
   "cell_type": "code",
   "execution_count": 186,
   "metadata": {},
   "outputs": [
    {
     "name": "stdout",
     "output_type": "stream",
     "text": [
      "Node features (x): tensor([[0, 0, 0,  ..., 0, 0, 0],\n",
      "        [0, 0, 0,  ..., 0, 0, 0],\n",
      "        [0, 0, 0,  ..., 0, 0, 0],\n",
      "        ...,\n",
      "        [0, 0, 0,  ..., 0, 0, 0],\n",
      "        [0, 0, 0,  ..., 0, 0, 0],\n",
      "        [0, 0, 0,  ..., 0, 0, 0]])\n",
      "Edge index: tensor([[1.0000e+00, 2.0000e+00, 3.0000e+00,  ..., 1.0940e+03, 1.0950e+03,\n",
      "         1.0960e+03],\n",
      "        [2.0000e+00, 1.0000e+00, 5.0000e+00,  ..., 1.0890e+03, 1.0960e+03,\n",
      "         1.0950e+03]])\n",
      "Batch vector: tensor([  0,   0,   0,  ..., 126, 127, 127])\n",
      "Labels (y): tensor([0., 0., 0., 1., 0., 1., 0., 0., 0., 1., 1., 0., 0., 0., 0., 0., 0., 1.,\n",
      "        0., 0., 0., 1., 0., 0., 1., 1., 0., 0., 0., 0., 1., 1., 0., 0., 1., 1.,\n",
      "        0., 1., 1., 0., 0., 0., 1., 0., 0., 1., 1., 0., 1., 1., 0., 0., 0., 1.,\n",
      "        0., 0., 1., 1., 0., 1., 0., 1., 1., 0., 1., 1., 1., 0., 1., 1., 1., 0.,\n",
      "        0., 0., 0., 1., 0., 0., 1., 1., 1., 0., 1., 0., 1., 0., 1., 1., 0., 1.,\n",
      "        1., 1., 1., 0., 0., 1., 0., 1., 1., 0., 0., 1., 0., 1., 1., 1., 1., 1.,\n",
      "        0., 0., 1., 0., 1., 1., 0., 0., 1., 0., 0., 1., 1., 0., 0., 1., 0., 0.,\n",
      "        1., 0.])\n",
      "========\n",
      "Node features (x) shape: torch.Size([1097, 64])\n",
      "Edge index shape: torch.Size([2, 2961])\n",
      "Batch vector shape: torch.Size([1097])\n",
      "Labels (y) shape: torch.Size([128])\n"
     ]
    }
   ],
   "source": [
    "# Get a single batch from the train_dataloader\n",
    "for batch in train_dataloader:\n",
    "    print(\"Node features (x):\", batch.x)\n",
    "    print(\"Edge index:\", batch.edge_index)\n",
    "    print(\"Batch vector:\", batch.batch)\n",
    "    print(\"Labels (y):\", batch.y)\n",
    "    print('========')\n",
    "    print(\"Node features (x) shape:\", batch.x.shape)\n",
    "    print(\"Edge index shape:\", batch.edge_index.shape)\n",
    "    print(\"Batch vector shape:\", batch.batch.shape)\n",
    "    print(\"Labels (y) shape:\", batch.y.shape)\n",
    "    break"
   ]
  },
  {
   "cell_type": "code",
   "execution_count": 31,
   "metadata": {},
   "outputs": [
    {
     "name": "stdout",
     "output_type": "stream",
     "text": [
      "Epoch 1/20, Loss: 0.2509524576346237\n",
      "Epoch 2/20, Loss: 0.17543786351209278\n",
      "Epoch 3/20, Loss: 0.17319882885804253\n",
      "Epoch 4/20, Loss: 0.17302369162755668\n",
      "Epoch 5/20, Loss: 0.1705150519492765\n",
      "Epoch 6/20, Loss: 0.17082862475167507\n",
      "Epoch 7/20, Loss: 0.16884724350360336\n",
      "Epoch 8/20, Loss: 0.1681342276710051\n",
      "Epoch 9/20, Loss: 0.16745123185375066\n",
      "Epoch 10/20, Loss: 0.16853190986094652\n",
      "Epoch 11/20, Loss: 0.16885086915716924\n",
      "Epoch 12/20, Loss: 0.16852396752231966\n",
      "Epoch 13/20, Loss: 0.16701751909952947\n",
      "Epoch 14/20, Loss: 0.16662541713821824\n",
      "Epoch 15/20, Loss: 0.16570828735788978\n",
      "Epoch 16/20, Loss: 0.16700614091974716\n",
      "Epoch 17/20, Loss: 0.1667262596132421\n",
      "Epoch 18/20, Loss: 0.166540174976622\n",
      "Epoch 19/20, Loss: 0.16979414476919427\n",
      "Epoch 20/20, Loss: 0.16601103854183324\n"
     ]
    }
   ],
   "source": [
    "for epoch in range(epochs):\n",
    "    total_loss = 0\n",
    "    for batch in train_dataloader:\n",
    "        optimizer.zero_grad()\n",
    "\n",
    "        output = model(batch.x.float(), batch.edge_index.int(), batch.batch)\n",
    "\n",
    "        loss = criterion(output, batch.y.float().unsqueeze(-1))\n",
    "\n",
    "        # Backward pass and optimization\n",
    "        loss.backward()\n",
    "        optimizer.step()\n",
    "\n",
    "        total_loss += loss.item()\n",
    "\n",
    "    print(f'Epoch {epoch + 1}/{epochs}, Loss: {total_loss / len(train_dataloader)}')"
   ]
  },
  {
   "cell_type": "code",
   "execution_count": null,
   "metadata": {},
   "outputs": [],
   "source": [
    "torch.save(model, '../data/model.pt')"
   ]
  },
  {
   "cell_type": "markdown",
   "metadata": {},
   "source": [
    "# Evaluating on test datasets"
   ]
  },
  {
   "cell_type": "markdown",
   "metadata": {},
   "source": [
    "### 1:1 link/non-link ratio"
   ]
  },
  {
   "cell_type": "code",
   "execution_count": 32,
   "metadata": {},
   "outputs": [
    {
     "name": "stdout",
     "output_type": "stream",
     "text": [
      "AUC Score: 0.9810\n"
     ]
    }
   ],
   "source": [
    "all_labels = []\n",
    "all_probs = []\n",
    "\n",
    "with torch.no_grad():\n",
    "    for batch in test_dataloader_1_1:\n",
    "        logits = model(batch.x.float(), batch.edge_index.int(), batch.batch)\n",
    "        probs = torch.sigmoid(logits).squeeze()\n",
    "\n",
    "        all_labels.append(batch.y.float())\n",
    "        all_probs.append(probs)\n",
    "\n",
    "all_labels = torch.cat(all_labels)\n",
    "all_probs = torch.cat(all_probs)\n",
    "\n",
    "auc_score = roc_auc_score(all_labels, all_probs)\n",
    "print(f\"AUC Score: {auc_score:.4f}\")"
   ]
  },
  {
   "cell_type": "markdown",
   "metadata": {},
   "source": [
    "Let's now plot the predicted probability. The first half of the test data has label 1, and the second half has label 0.\n",
    "\n",
    "Since the number of data will be big, we will plot one data point after every 200 data points."
   ]
  },
  {
   "cell_type": "code",
   "execution_count": 40,
   "metadata": {},
   "outputs": [
    {
     "data": {
      "text/plain": [
       "[<matplotlib.lines.Line2D at 0x6445f5fd0>]"
      ]
     },
     "execution_count": 40,
     "metadata": {},
     "output_type": "execute_result"
    },
    {
     "data": {
      "image/png": "[encoded data removed]",
      "text/plain": [
       "<Figure size 640x480 with 1 Axes>"
      ]
     },
     "metadata": {},
     "output_type": "display_data"
    }
   ],
   "source": [
    "plt.plot(all_probs[::200])"
   ]
  },
  {
   "cell_type": "code",
   "execution_count": null,
   "metadata": {},
   "outputs": [],
   "source": []
  }
 ],
 "metadata": {
  "kernelspec": {
   "display_name": "ml_on_graph_proj",
   "language": "python",
   "name": "python3"
  },
  "language_info": {
   "codemirror_mode": {
    "name": "ipython",
    "version": 3
   },
   "file_extension": ".py",
   "mimetype": "text/x-python",
   "name": "python",
   "nbconvert_exporter": "python",
   "pygments_lexer": "ipython3",
   "version": "3.9.20"
  }
 },
 "nbformat": 4,
 "nbformat_minor": 2
}
